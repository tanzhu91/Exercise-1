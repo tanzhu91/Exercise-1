{
 "cells": [
  {
   "cell_type": "markdown",
   "id": "8d9dec61-2951-4377-a93c-43c416358ad8",
   "metadata": {},
   "source": [
    "# Header 1"
   ]
  },
  {
   "cell_type": "markdown",
   "id": "ae06826f-e9a0-482a-a0b4-8b3bb84d9dd4",
   "metadata": {},
   "source": [
    "## Header 2"
   ]
  },
  {
   "cell_type": "markdown",
   "id": "51834578-d343-40f0-9b7f-fc5b027a613b",
   "metadata": {},
   "source": [
    "### Header 3\n",
    "This is our first notebook in pepper scatter.\n",
    "- We will cover basics of jupyter notebook\n",
    "- Later we will work on a ready notebook"
   ]
  },
  {
   "cell_type": "code",
   "execution_count": 4,
   "id": "18ea172a-9620-4886-94dc-6b668ecbf29b",
   "metadata": {},
   "outputs": [
    {
     "name": "stdout",
     "output_type": "stream",
     "text": [
      "Hello World!\n"
     ]
    }
   ],
   "source": [
    "print('Hello World!')"
   ]
  },
  {
   "cell_type": "code",
   "execution_count": 5,
   "id": "3a4b9dd8-5613-4dd8-b81d-46ae647da70e",
   "metadata": {},
   "outputs": [
    {
     "data": {
      "text/plain": [
       "3"
      ]
     },
     "execution_count": 5,
     "metadata": {},
     "output_type": "execute_result"
    }
   ],
   "source": [
    "1 + 2"
   ]
  },
  {
   "cell_type": "code",
   "execution_count": 6,
   "id": "7a128ad7-e9d4-4836-a715-e56d956c39fe",
   "metadata": {},
   "outputs": [
    {
     "data": {
      "text/plain": [
       "int"
      ]
     },
     "execution_count": 6,
     "metadata": {},
     "output_type": "execute_result"
    }
   ],
   "source": [
    "type(14)"
   ]
  },
  {
   "cell_type": "code",
   "execution_count": 7,
   "id": "70b0787c-9cce-4ea9-b53b-8998c8c5df84",
   "metadata": {},
   "outputs": [
    {
     "data": {
      "text/plain": [
       "float"
      ]
     },
     "execution_count": 7,
     "metadata": {},
     "output_type": "execute_result"
    }
   ],
   "source": [
    "type(32.2)"
   ]
  },
  {
   "cell_type": "code",
   "execution_count": 9,
   "id": "54c89851-c7b9-4e04-80a1-037098ad6547",
   "metadata": {},
   "outputs": [
    {
     "data": {
      "text/plain": [
       "str"
      ]
     },
     "execution_count": 9,
     "metadata": {},
     "output_type": "execute_result"
    }
   ],
   "source": [
    "type('5')\n",
    "    "
   ]
  },
  {
   "cell_type": "code",
   "execution_count": 12,
   "id": "679a39c8-946a-4441-9047-5955487c5e5e",
   "metadata": {},
   "outputs": [],
   "source": [
    "a = [1,3,\"h\"]"
   ]
  },
  {
   "cell_type": "code",
   "execution_count": 13,
   "id": "7b04fd9d-172b-4fe7-84fd-ca0eb09018c7",
   "metadata": {},
   "outputs": [
    {
     "data": {
      "text/plain": [
       "list"
      ]
     },
     "execution_count": 13,
     "metadata": {},
     "output_type": "execute_result"
    }
   ],
   "source": [
    "type(a)"
   ]
  },
  {
   "cell_type": "code",
   "execution_count": 15,
   "id": "593e3e35-2076-4194-bebb-ccf75ffff379",
   "metadata": {},
   "outputs": [
    {
     "data": {
      "text/plain": [
       "'this is a string'"
      ]
     },
     "execution_count": 15,
     "metadata": {},
     "output_type": "execute_result"
    }
   ],
   "source": [
    "'this is a string'"
   ]
  },
  {
   "cell_type": "code",
   "execution_count": 16,
   "id": "440e0f8f-8944-4994-937e-a61089bc7f74",
   "metadata": {},
   "outputs": [
    {
     "data": {
      "text/plain": [
       "'This is another string'"
      ]
     },
     "execution_count": 16,
     "metadata": {},
     "output_type": "execute_result"
    }
   ],
   "source": [
    "\"This is another string\""
   ]
  },
  {
   "cell_type": "code",
   "execution_count": 17,
   "id": "d773be8d-ed7b-489d-b1f3-9927bdfea818",
   "metadata": {},
   "outputs": [
    {
     "data": {
      "text/plain": [
       "2"
      ]
     },
     "execution_count": 17,
     "metadata": {},
     "output_type": "execute_result"
    }
   ],
   "source": [
    "True + True\n"
   ]
  },
  {
   "cell_type": "code",
   "execution_count": 18,
   "id": "d1dcaa1c-55f7-42b3-a2fe-95800a345aac",
   "metadata": {},
   "outputs": [
    {
     "data": {
      "text/plain": [
       "1"
      ]
     },
     "execution_count": 18,
     "metadata": {},
     "output_type": "execute_result"
    }
   ],
   "source": [
    "True + False"
   ]
  },
  {
   "cell_type": "code",
   "execution_count": 19,
   "id": "8b3ec293-0445-4cc5-8c2a-11d0d4836dd9",
   "metadata": {},
   "outputs": [
    {
     "data": {
      "text/plain": [
       "0"
      ]
     },
     "execution_count": 19,
     "metadata": {},
     "output_type": "execute_result"
    }
   ],
   "source": [
    "False + False"
   ]
  },
  {
   "cell_type": "code",
   "execution_count": 20,
   "id": "7070b8d0-9bfd-4c48-bf23-650d492dde3e",
   "metadata": {},
   "outputs": [
    {
     "data": {
      "text/plain": [
       "-1"
      ]
     },
     "execution_count": 20,
     "metadata": {},
     "output_type": "execute_result"
    }
   ],
   "source": [
    "4 - 5"
   ]
  },
  {
   "cell_type": "code",
   "execution_count": 21,
   "id": "eaf9d173-e6fb-467e-9bc4-5f243c3ccd0e",
   "metadata": {},
   "outputs": [
    {
     "data": {
      "text/plain": [
       "0.375"
      ]
     },
     "execution_count": 21,
     "metadata": {},
     "output_type": "execute_result"
    }
   ],
   "source": [
    "12 / 32"
   ]
  },
  {
   "cell_type": "code",
   "execution_count": 22,
   "id": "e53e73c1-1a8a-47d2-9058-2d64f28183d9",
   "metadata": {},
   "outputs": [
    {
     "data": {
      "text/plain": [
       "3"
      ]
     },
     "execution_count": 22,
     "metadata": {},
     "output_type": "execute_result"
    }
   ],
   "source": [
    "8%5"
   ]
  },
  {
   "cell_type": "code",
   "execution_count": 23,
   "id": "119cbe91-48c0-4b46-8a3b-c9054055d4db",
   "metadata": {},
   "outputs": [
    {
     "data": {
      "text/plain": [
       "9"
      ]
     },
     "execution_count": 23,
     "metadata": {},
     "output_type": "execute_result"
    }
   ],
   "source": [
    "3 ** 2"
   ]
  },
  {
   "cell_type": "code",
   "execution_count": 25,
   "id": "65f90d62-493d-4c5f-a248-aea9a3caffd2",
   "metadata": {},
   "outputs": [
    {
     "data": {
      "text/plain": [
       "34"
      ]
     },
     "execution_count": 25,
     "metadata": {},
     "output_type": "execute_result"
    }
   ],
   "source": [
    "4 + 6 * 5 "
   ]
  },
  {
   "cell_type": "code",
   "execution_count": 26,
   "id": "3a7fbbdb-d982-4a84-959c-0f22a4731430",
   "metadata": {},
   "outputs": [
    {
     "data": {
      "text/plain": [
       "50"
      ]
     },
     "execution_count": 26,
     "metadata": {},
     "output_type": "execute_result"
    }
   ],
   "source": [
    "(4 + 6 ) * 5"
   ]
  },
  {
   "cell_type": "code",
   "execution_count": 27,
   "id": "9cb9d133-7474-40ff-a6d5-9deb0135c515",
   "metadata": {},
   "outputs": [
    {
     "data": {
      "text/plain": [
       "True"
      ]
     },
     "execution_count": 27,
     "metadata": {},
     "output_type": "execute_result"
    }
   ],
   "source": [
    "2<3"
   ]
  },
  {
   "cell_type": "code",
   "execution_count": 30,
   "id": "639136e7-8899-4c01-bb6c-4201d02956c9",
   "metadata": {},
   "outputs": [
    {
     "data": {
      "text/plain": [
       "True"
      ]
     },
     "execution_count": 30,
     "metadata": {},
     "output_type": "execute_result"
    }
   ],
   "source": [
    "5 == 5"
   ]
  },
  {
   "cell_type": "code",
   "execution_count": 34,
   "id": "21311600-8645-4ec9-9fba-dbb69b47f732",
   "metadata": {},
   "outputs": [
    {
     "data": {
      "text/plain": [
       "False"
      ]
     },
     "execution_count": 34,
     "metadata": {},
     "output_type": "execute_result"
    }
   ],
   "source": [
    "5 != 5"
   ]
  },
  {
   "cell_type": "code",
   "execution_count": 35,
   "id": "f90a9192-0dd9-4a1a-9eba-d9fbf42a253a",
   "metadata": {},
   "outputs": [
    {
     "data": {
      "text/plain": [
       "True"
      ]
     },
     "execution_count": 35,
     "metadata": {},
     "output_type": "execute_result"
    }
   ],
   "source": [
    "3 != 5"
   ]
  },
  {
   "cell_type": "code",
   "execution_count": 36,
   "id": "8c773cb3-e74c-4222-a932-1ffdd19268eb",
   "metadata": {},
   "outputs": [
    {
     "data": {
      "text/plain": [
       "True"
      ]
     },
     "execution_count": 36,
     "metadata": {},
     "output_type": "execute_result"
    }
   ],
   "source": [
    "4 > 3 and 1 <= 3"
   ]
  },
  {
   "cell_type": "code",
   "execution_count": 37,
   "id": "f6ee3115-ecce-4da4-8687-549f296415ed",
   "metadata": {},
   "outputs": [
    {
     "data": {
      "text/plain": [
       "True"
      ]
     },
     "execution_count": 37,
     "metadata": {},
     "output_type": "execute_result"
    }
   ],
   "source": [
    "4 == 5 or 4 == 4"
   ]
  },
  {
   "cell_type": "code",
   "execution_count": 38,
   "id": "aa43b546-7198-4cc7-b3ac-1ea6a5f65707",
   "metadata": {},
   "outputs": [
    {
     "data": {
      "text/plain": [
       "False"
      ]
     },
     "execution_count": 38,
     "metadata": {},
     "output_type": "execute_result"
    }
   ],
   "source": [
    "not ( 5 == 5)"
   ]
  },
  {
   "cell_type": "code",
   "execution_count": 39,
   "id": "1276b29e-4148-4030-84b9-5fcdf2cb2dca",
   "metadata": {},
   "outputs": [
    {
     "data": {
      "text/plain": [
       "'My fisrt string My second string'"
      ]
     },
     "execution_count": 39,
     "metadata": {},
     "output_type": "execute_result"
    }
   ],
   "source": [
    "'My fisrt string' + ' ' + 'My second string'"
   ]
  },
  {
   "cell_type": "code",
   "execution_count": 42,
   "id": "a110f374-7be3-4ae2-8856-703e3e2fea07",
   "metadata": {},
   "outputs": [
    {
     "data": {
      "text/plain": [
       "'Repeating string Repeating string Repeating string '"
      ]
     },
     "execution_count": 42,
     "metadata": {},
     "output_type": "execute_result"
    }
   ],
   "source": [
    "'Repeating string' ' ' * 3"
   ]
  },
  {
   "cell_type": "code",
   "execution_count": 43,
   "id": "420a806b-989f-4eef-bfbc-132518727fc4",
   "metadata": {},
   "outputs": [
    {
     "data": {
      "text/plain": [
       "False"
      ]
     },
     "execution_count": 43,
     "metadata": {},
     "output_type": "execute_result"
    }
   ],
   "source": [
    "'hello ' == 'hello'"
   ]
  },
  {
   "cell_type": "code",
   "execution_count": 44,
   "id": "38234ad8-3c15-4def-804a-650011074238",
   "metadata": {},
   "outputs": [
    {
     "data": {
      "text/plain": [
       "True"
      ]
     },
     "execution_count": 44,
     "metadata": {},
     "output_type": "execute_result"
    }
   ],
   "source": [
    "'hey' != 'hallo'"
   ]
  },
  {
   "cell_type": "code",
   "execution_count": 45,
   "id": "fc7e0ea4-c42e-4b77-bee7-3dd6f183eb6b",
   "metadata": {},
   "outputs": [
    {
     "data": {
      "text/plain": [
       "11"
      ]
     },
     "execution_count": 45,
     "metadata": {},
     "output_type": "execute_result"
    }
   ],
   "source": [
    "min(14,21,32,11,44,23)"
   ]
  },
  {
   "cell_type": "code",
   "execution_count": 46,
   "id": "82122a3d-3adb-47f3-a043-5d1a92446026",
   "metadata": {},
   "outputs": [
    {
     "data": {
      "text/plain": [
       "44"
      ]
     },
     "execution_count": 46,
     "metadata": {},
     "output_type": "execute_result"
    }
   ],
   "source": [
    "max(14,21,32,11,44,23)"
   ]
  },
  {
   "cell_type": "code",
   "execution_count": 49,
   "id": "b5da771d-ab09-4a88-88d8-cb572d30604b",
   "metadata": {},
   "outputs": [
    {
     "data": {
      "text/plain": [
       "3.1416"
      ]
     },
     "execution_count": 49,
     "metadata": {},
     "output_type": "execute_result"
    }
   ],
   "source": [
    "round(3.14159265259,4)"
   ]
  },
  {
   "cell_type": "code",
   "execution_count": 53,
   "id": "56db243c-e06e-417d-b028-93e94b9af503",
   "metadata": {},
   "outputs": [
    {
     "data": {
      "text/plain": [
       "2.14"
      ]
     },
     "execution_count": 53,
     "metadata": {},
     "output_type": "execute_result"
    }
   ],
   "source": [
    "abs(-2.14)"
   ]
  },
  {
   "cell_type": "code",
   "execution_count": null,
   "id": "d0e3ea9d-302b-4071-8217-2a3daca7e2c5",
   "metadata": {},
   "outputs": [],
   "source": []
  }
 ],
 "metadata": {
  "kernelspec": {
   "display_name": "Python 3 (ipykernel)",
   "language": "python",
   "name": "python3"
  },
  "language_info": {
   "codemirror_mode": {
    "name": "ipython",
    "version": 3
   },
   "file_extension": ".py",
   "mimetype": "text/x-python",
   "name": "python",
   "nbconvert_exporter": "python",
   "pygments_lexer": "ipython3",
   "version": "3.12.3"
  }
 },
 "nbformat": 4,
 "nbformat_minor": 5
}
