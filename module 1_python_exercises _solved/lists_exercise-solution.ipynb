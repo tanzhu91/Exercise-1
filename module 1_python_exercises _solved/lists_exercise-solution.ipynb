{
 "cells": [
  {
   "cell_type": "markdown",
   "metadata": {},
   "source": [
    "## Check your understanding!"
   ]
  },
  {
   "cell_type": "markdown",
   "metadata": {},
   "source": [
    "### 1. Create Lists"
   ]
  },
  {
   "cell_type": "markdown",
   "metadata": {},
   "source": [
    "1.1 Construct a list with 5 integers in it."
   ]
  },
  {
   "cell_type": "code",
   "execution_count": 1,
   "metadata": {},
   "outputs": [
    {
     "data": {
      "text/plain": [
       "[2, 23, 13, 8, 55]"
      ]
     },
     "execution_count": 1,
     "metadata": {},
     "output_type": "execute_result"
    }
   ],
   "source": [
    "integers_list = [2,23,13,8,55]\n",
    "integers_list"
   ]
  },
  {
   "cell_type": "markdown",
   "metadata": {},
   "source": [
    "1.2. Construct a list of 5 floats in it."
   ]
  },
  {
   "cell_type": "code",
   "execution_count": 3,
   "metadata": {},
   "outputs": [
    {
     "data": {
      "text/plain": [
       "[2.4, 5.4, 6.3, 77.5, 66.2]"
      ]
     },
     "execution_count": 3,
     "metadata": {},
     "output_type": "execute_result"
    }
   ],
   "source": [
    "floats_list = [ 2.4, 5.4, 6.3, 77.5, 66.2]\n",
    "floats_list"
   ]
  },
  {
   "cell_type": "markdown",
   "metadata": {},
   "source": [
    "1.3. Construct a list with only strings in it."
   ]
  },
  {
   "cell_type": "code",
   "execution_count": 4,
   "metadata": {},
   "outputs": [
    {
     "data": {
      "text/plain": [
       "['Apples', 'Oranges', 'Bananas', 'Kiwis', 'Apricots']"
      ]
     },
     "execution_count": 4,
     "metadata": {},
     "output_type": "execute_result"
    }
   ],
   "source": [
    "string_list = [\"Apples\", \"Oranges\", \"Bananas\", \"Kiwis\", \"Apricots\"]\n",
    "string_list"
   ]
  },
  {
   "cell_type": "markdown",
   "metadata": {},
   "source": [
    "1.4 Construct a list that contains at least one integer, one floating point number, and one string."
   ]
  },
  {
   "cell_type": "code",
   "execution_count": 5,
   "metadata": {},
   "outputs": [
    {
     "data": {
      "text/plain": [
       "[55, 66.3, 'Orange']"
      ]
     },
     "execution_count": 5,
     "metadata": {},
     "output_type": "execute_result"
    }
   ],
   "source": [
    "mixed_list = [55, 66.3, \"Orange\"]\n",
    "mixed_list"
   ]
  },
  {
   "cell_type": "markdown",
   "metadata": {},
   "source": [
    "1.5 Construct* a list that contains a list of integers, a list of floating point numbers, and a list of strings?  \n",
    "<p style=\"margin-left: 20px;\"><font size=2>* If you saved the lists from questions 1.1-1.3 into their own variables then you can do this in more than one way.</font></p>"
   ]
  },
  {
   "cell_type": "code",
   "execution_count": 6,
   "metadata": {},
   "outputs": [
    {
     "data": {
      "text/plain": [
       "[[2,\n",
       "  23,\n",
       "  13,\n",
       "  8,\n",
       "  55,\n",
       "  2.4,\n",
       "  5.4,\n",
       "  6.3,\n",
       "  77.5,\n",
       "  66.2,\n",
       "  'Apples',\n",
       "  'Oranges',\n",
       "  'Bananas',\n",
       "  'Kiwis',\n",
       "  'Apricots']]"
      ]
     },
     "execution_count": 6,
     "metadata": {},
     "output_type": "execute_result"
    }
   ],
   "source": [
    "collection_lists = [integers_list + floats_list + string_list]\n",
    "collection_lists"
   ]
  },
  {
   "cell_type": "markdown",
   "metadata": {},
   "source": [
    "### 2. List Indexing\n",
    "\n",
    "Assume that we are working with this list: [3, 7, 12, 15, 22]. "
   ]
  },
  {
   "cell_type": "markdown",
   "metadata": {},
   "source": [
    "2.1 How would we index into the list to grab the number 7? What about the number 15?"
   ]
  },
  {
   "cell_type": "code",
   "execution_count": 3,
   "metadata": {},
   "outputs": [
    {
     "data": {
      "text/plain": [
       "15"
      ]
     },
     "execution_count": 3,
     "metadata": {},
     "output_type": "execute_result"
    }
   ],
   "source": [
    "list = [3,7,12,15,22]\n",
    "list[3]"
   ]
  },
  {
   "cell_type": "markdown",
   "metadata": {},
   "source": [
    "2.2 Using negative indexing, how would we index into the list to grab the number 12?"
   ]
  },
  {
   "cell_type": "code",
   "execution_count": 4,
   "metadata": {},
   "outputs": [
    {
     "data": {
      "text/plain": [
       "12"
      ]
     },
     "execution_count": 4,
     "metadata": {},
     "output_type": "execute_result"
    }
   ],
   "source": [
    "list[-3]"
   ]
  },
  {
   "cell_type": "markdown",
   "metadata": {},
   "source": [
    "2.3. How would I use interval indexing to grab 7 and 15 from the list?"
   ]
  },
  {
   "cell_type": "code",
   "execution_count": 10,
   "metadata": {},
   "outputs": [
    {
     "data": {
      "text/plain": [
       "[7, 15]"
      ]
     },
     "execution_count": 10,
     "metadata": {},
     "output_type": "execute_result"
    }
   ],
   "source": [
    "list[1::2]"
   ]
  },
  {
   "cell_type": "markdown",
   "metadata": {},
   "source": [
    "### 3. List Methods"
   ]
  },
  {
   "cell_type": "markdown",
   "metadata": {},
   "source": [
    "3.1. Construct a list of the even numbers from 0 to 10."
   ]
  },
  {
   "cell_type": "code",
   "execution_count": 36,
   "metadata": {},
   "outputs": [],
   "source": [
    "list_even = [2, 4, 6, 8, 10]"
   ]
  },
  {
   "cell_type": "markdown",
   "metadata": {},
   "source": [
    "3.2. Add (with a method) the number 12 to the previous list."
   ]
  },
  {
   "cell_type": "code",
   "execution_count": 37,
   "metadata": {},
   "outputs": [
    {
     "data": {
      "text/plain": [
       "[2, 4, 6, 8, 10, 12]"
      ]
     },
     "execution_count": 37,
     "metadata": {},
     "output_type": "execute_result"
    }
   ],
   "source": [
    "list_even.append(12)\n",
    "list_even"
   ]
  },
  {
   "cell_type": "markdown",
   "metadata": {},
   "source": [
    "3.3. Use a method on the list to put the numbers in descending order (12 down to 0)."
   ]
  },
  {
   "cell_type": "code",
   "execution_count": 38,
   "metadata": {},
   "outputs": [
    {
     "data": {
      "text/plain": [
       "[12, 10, 8, 6, 4, 2]"
      ]
     },
     "execution_count": 38,
     "metadata": {},
     "output_type": "execute_result"
    }
   ],
   "source": [
    "list_even.sort(reverse = True)\n",
    "list_even"
   ]
  },
  {
   "cell_type": "markdown",
   "metadata": {},
   "source": [
    "3.4. Call .count(12) on your list. Given what it returns and the name of the method itself, can you take a guess at what this method does?"
   ]
  },
  {
   "cell_type": "code",
   "execution_count": 39,
   "metadata": {},
   "outputs": [
    {
     "data": {
      "text/plain": [
       "1"
      ]
     },
     "execution_count": 39,
     "metadata": {},
     "output_type": "execute_result"
    }
   ],
   "source": [
    "list_even.count(12)\n",
    "### It counts the number of times 12 repeats in my list"
   ]
  },
  {
   "cell_type": "markdown",
   "metadata": {},
   "source": [
    "3.5. Add (with a method) the number 12 to the list again."
   ]
  },
  {
   "cell_type": "code",
   "execution_count": 40,
   "metadata": {},
   "outputs": [],
   "source": [
    "list_even.append(12)"
   ]
  },
  {
   "cell_type": "markdown",
   "metadata": {},
   "source": [
    "3.6. Call .count(12) on your list again. Did you get the intended result?"
   ]
  },
  {
   "cell_type": "code",
   "execution_count": 41,
   "metadata": {},
   "outputs": [
    {
     "data": {
      "text/plain": [
       "2"
      ]
     },
     "execution_count": 41,
     "metadata": {},
     "output_type": "execute_result"
    }
   ],
   "source": [
    "list_even.count(12)"
   ]
  },
  {
   "cell_type": "markdown",
   "metadata": {},
   "source": [
    "3.7. Use a method on the list to put the numbers in asscending order (from 0 to 12)."
   ]
  },
  {
   "cell_type": "code",
   "execution_count": 42,
   "metadata": {},
   "outputs": [
    {
     "data": {
      "text/plain": [
       "[2, 4, 6, 8, 10, 12, 12]"
      ]
     },
     "execution_count": 42,
     "metadata": {},
     "output_type": "execute_result"
    }
   ],
   "source": [
    "list_even.sort()\n",
    "list_even"
   ]
  },
  {
   "cell_type": "markdown",
   "metadata": {},
   "source": [
    "3.8. Remove the last item from the list."
   ]
  },
  {
   "cell_type": "code",
   "execution_count": 43,
   "metadata": {},
   "outputs": [
    {
     "data": {
      "text/plain": [
       "[2, 4, 6, 8, 10, 12]"
      ]
     },
     "execution_count": 43,
     "metadata": {},
     "output_type": "execute_result"
    }
   ],
   "source": [
    "list_even.pop()\n",
    "list_even"
   ]
  },
  {
   "cell_type": "markdown",
   "metadata": {},
   "source": [
    "3.9. How many items are now in your list? (you can check if your right with len(my_list))"
   ]
  },
  {
   "cell_type": "code",
   "execution_count": 44,
   "metadata": {},
   "outputs": [
    {
     "data": {
      "text/plain": [
       "6"
      ]
     },
     "execution_count": 44,
     "metadata": {},
     "output_type": "execute_result"
    }
   ],
   "source": [
    "len(list_even)"
   ]
  },
  {
   "cell_type": "markdown",
   "metadata": {},
   "source": [
    "### 4. List for storing data and make efficient calculations"
   ]
  },
  {
   "cell_type": "markdown",
   "metadata": {},
   "source": [
    "Remember this cool feature with 'input'-function, where you can ask for user input:\n",
    "```python\n",
    "user_name = input(\"Enter your name: \")\n",
    "greeting = \"Hello, \" + user_name + \"!\"\n",
    "print(greeting)\n",
    "```"
   ]
  },
  {
   "cell_type": "markdown",
   "metadata": {},
   "source": [
    "*Task:* \n",
    "\n",
    "- Write a program that asks the user for their daily hours of work and for their money spent on lunch. \n",
    "- Store all values that are entered in both user-interfaces in two lists, one should be called `daily_hours` and the other one `lunch_expenses`.\n",
    "- Then, calculate the sum of all daily hours worked so far and the average lunch expenses.\n",
    "- Print out the result to us in a nicely formatted way. \n",
    "(If you want to be really pythonic, try to use string formatting with the format-method and f-strings.)"
   ]
  },
  {
   "cell_type": "code",
   "execution_count": 11,
   "metadata": {},
   "outputs": [],
   "source": [
    "daily_hours = []\n",
    "lunch_expenses =[]"
   ]
  },
  {
   "cell_type": "code",
   "execution_count": 32,
   "metadata": {},
   "outputs": [
    {
     "name": "stdout",
     "output_type": "stream",
     "text": [
      "Your daily work hours are:  [5, 6, 4, 5]\n",
      "Your lunch expenditures are: [6, 7, 5, 8]\n"
     ]
    }
   ],
   "source": [
    "user_input = int(input(\"Enter how many hours do you work per day: \"))\n",
    "if user_input > 0 and user_input < 24:\n",
    "    daily_hours.append(user_input)\n",
    "print(f'Your daily work hours are:  {daily_hours}')\n",
    "user_input = int(input(\"Enter how much you spend on lunch per day: \"))\n",
    "if user_input > 0:\n",
    "    lunch_expenses.append(user_input)\n",
    "print(f'Your lunch expenditures are: {lunch_expenses}')\n"
   ]
  },
  {
   "cell_type": "code",
   "execution_count": 33,
   "metadata": {},
   "outputs": [
    {
     "name": "stdout",
     "output_type": "stream",
     "text": [
      "Your lunch expenditures are  20 euros \n",
      "Your lunch expenditures are  26 euros \n"
     ]
    }
   ],
   "source": [
    "print(f'Your lunch expenditures are  {sum(daily_hours)} euros ')\n",
    "print(f'Your lunch expenditures are  {sum(lunch_expenses)} euros ')"
   ]
  },
  {
   "cell_type": "code",
   "execution_count": 34,
   "metadata": {},
   "outputs": [
    {
     "name": "stdout",
     "output_type": "stream",
     "text": [
      "Your average lunch expense is 6.5 \n"
     ]
    }
   ],
   "source": [
    "average_lunch_expenses = sum(lunch_expenses)/len(lunch_expenses)\n",
    "print(f'Your average lunch expense is {average_lunch_expenses} ')"
   ]
  },
  {
   "cell_type": "markdown",
   "metadata": {},
   "source": [
    "*Optional task:*\n",
    "- add a feature that let's the user tell you to delete a certain element if it was wrong.\n",
    "- we will not describe possible steps for this in more detail, try to come up with a step-by-step solution yourself :-) "
   ]
  },
  {
   "cell_type": "code",
   "execution_count": null,
   "metadata": {},
   "outputs": [],
   "source": []
  }
 ],
 "metadata": {
  "kernelspec": {
   "display_name": "base",
   "language": "python",
   "name": "python3"
  },
  "language_info": {
   "codemirror_mode": {
    "name": "ipython",
    "version": 3
   },
   "file_extension": ".py",
   "mimetype": "text/x-python",
   "name": "python",
   "nbconvert_exporter": "python",
   "pygments_lexer": "ipython3",
   "version": "3.12.3"
  }
 },
 "nbformat": 4,
 "nbformat_minor": 4
}
