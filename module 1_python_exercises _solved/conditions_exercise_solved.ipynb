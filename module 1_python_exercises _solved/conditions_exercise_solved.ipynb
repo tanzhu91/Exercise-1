{
 "cells": [
  {
   "cell_type": "markdown",
   "metadata": {},
   "source": [
    "## Check your understanding"
   ]
  },
  {
   "cell_type": "markdown",
   "metadata": {},
   "source": [
    "### 1. `if` Questions"
   ]
  },
  {
   "cell_type": "markdown",
   "metadata": {},
   "source": [
    "1.1 Write an `if` statement to check if a number is smaller than 100."
   ]
  },
  {
   "cell_type": "code",
   "execution_count": 1,
   "metadata": {},
   "outputs": [
    {
     "name": "stdout",
     "output_type": "stream",
     "text": [
      "x is smaller than 100\n"
     ]
    }
   ],
   "source": [
    "x = 99 \n",
    "if x < 100:\n",
    "    print(\"x is smaller than 100\")"
   ]
  },
  {
   "cell_type": "markdown",
   "metadata": {},
   "source": [
    "1.2. Write some code that accepts a user inputted number. It checks to see if that number is positive, and if it is it adds 50 to the number. Then print the number."
   ]
  },
  {
   "cell_type": "code",
   "execution_count": 3,
   "metadata": {},
   "outputs": [
    {
     "name": "stdin",
     "output_type": "stream",
     "text": [
      "Enter a number 50\n"
     ]
    },
    {
     "name": "stdout",
     "output_type": "stream",
     "text": [
      "100\n"
     ]
    }
   ],
   "source": [
    "x = int(input(\"Enter a number\"))\n",
    "if x > 0:\n",
    "    x += 50\n",
    "    print(x)"
   ]
  },
  {
   "cell_type": "markdown",
   "metadata": {},
   "source": [
    "### 2. `if, elif, else` Questions"
   ]
  },
  {
   "cell_type": "markdown",
   "metadata": {},
   "source": [
    "2.1 Write an `if`-`elif`-`else` statement that does the following: \n",
    "\n",
    " * Prints \"This is a single digit number.\" if `x` is a single digit number\n",
    " * Prints \"This is a double digit number.\" if `x` is a double digit number \n",
    " * Prints \"This is a big number.\" otherwise."
   ]
  },
  {
   "cell_type": "code",
   "execution_count": 42,
   "metadata": {},
   "outputs": [
    {
     "name": "stdin",
     "output_type": "stream",
     "text": [
      "Enter a number 31\n"
     ]
    },
    {
     "name": "stdout",
     "output_type": "stream",
     "text": [
      "This is a double digit number\n"
     ]
    }
   ],
   "source": [
    "x = int(input(\"Enter a number\"))\n",
    "if x < 10:\n",
    "    print(\"This is a single digit number\")\n",
    "elif x < 100:\n",
    "    print(\"This is a double digit number\")\n",
    "else:\n",
    "    print(\"This is a big number\")"
   ]
  },
  {
   "cell_type": "markdown",
   "metadata": {},
   "source": [
    "### 3. `and`, `or`, `not` Questions"
   ]
  },
  {
   "cell_type": "markdown",
   "metadata": {},
   "source": [
    "3.1 Write the condition in Python in a single statement: if x is between 20 and 30 print x."
   ]
  },
  {
   "cell_type": "code",
   "execution_count": 52,
   "metadata": {},
   "outputs": [
    {
     "name": "stdout",
     "output_type": "stream",
     "text": [
      "25\n"
     ]
    }
   ],
   "source": [
    "x = 25\n",
    "if x > 20 or x < 30:\n",
    "    print(x)"
   ]
  },
  {
   "cell_type": "markdown",
   "metadata": {},
   "source": [
    "3.2 Write the following condition in two ways using Python: if x is greater than 10 print x."
   ]
  },
  {
   "cell_type": "code",
   "execution_count": 59,
   "metadata": {},
   "outputs": [
    {
     "name": "stdout",
     "output_type": "stream",
     "text": [
      "15\n"
     ]
    }
   ],
   "source": [
    "x = 15\n",
    "if x > 10:\n",
    "    print(x)"
   ]
  },
  {
   "cell_type": "code",
   "execution_count": null,
   "metadata": {},
   "outputs": [],
   "source": []
  },
  {
   "cell_type": "markdown",
   "metadata": {},
   "source": [
    "3.3 Write the following condition in Python: if x isn't a positive number print x."
   ]
  },
  {
   "cell_type": "code",
   "execution_count": 57,
   "metadata": {},
   "outputs": [],
   "source": [
    "x = 10\n",
    "if x < 0:\n",
    "    print(x)"
   ]
  },
  {
   "cell_type": "markdown",
   "metadata": {},
   "source": [
    "3.4 Write the following condition in Python: if x is between 1 and 50 except the numbers between 25 to 30 print x."
   ]
  },
  {
   "cell_type": "code",
   "execution_count": 61,
   "metadata": {},
   "outputs": [],
   "source": [
    "x = 26\n",
    "if x > 25 and x < 30:\n",
    "    pass\n",
    "elif x > 1 and x < 50:\n",
    "    print(x)"
   ]
  },
  {
   "cell_type": "markdown",
   "metadata": {},
   "source": [
    "### 4. Clean customer names"
   ]
  },
  {
   "cell_type": "markdown",
   "metadata": {},
   "source": [
    "In this exercise you have given four customer names assigned to four variables  \n",
    "`customer_name_1`, `customer_name_2`, `customer_name_3`, `customer_name_4`   \n",
    "\n",
    "For our data analysis we need only the actual customer names. \n",
    "\n",
    "Please check if the company name ends with 'Company GmbH'. If yes, then remove 'Company GmbH' (which string method could you use for that?), otherwise just leave the customer_name untouched. In both cases assign the output of your if condition to a new variable called `customer_name_extracted_1` or `_2` or `_3` or `_4`. "
   ]
  },
  {
   "cell_type": "code",
   "execution_count": 64,
   "metadata": {
    "vscode": {
     "languageId": "plaintext"
    }
   },
   "outputs": [],
   "source": [
    "customer_name_1 = 'Picaflor Company GmbH'\n",
    "customer_name_2 = 'Behrmann Company GmbH'\n",
    "customer_name_3 = 'Atlas Companyservice'\n",
    "customer_name_4 = 'McRae'"
   ]
  },
  {
   "cell_type": "code",
   "execution_count": 65,
   "metadata": {
    "vscode": {
     "languageId": "plaintext"
    }
   },
   "outputs": [],
   "source": [
    "customer_name_extracted_1 = customer_name_1.replace('Company GmbH', '')\n",
    "customer_name_extracted_2 = customer_name_2.replace('Company GmbH', '')\n",
    "customer_name_extracted_3 = customer_name_3\n",
    "customer_name_extracted_4 = customer_name_4"
   ]
  },
  {
   "cell_type": "code",
   "execution_count": 68,
   "metadata": {},
   "outputs": [
    {
     "data": {
      "text/plain": [
       "'Atlas Companyservice'"
      ]
     },
     "execution_count": 68,
     "metadata": {},
     "output_type": "execute_result"
    }
   ],
   "source": [
    "customer_name_extracted_3"
   ]
  },
  {
   "cell_type": "code",
   "execution_count": null,
   "metadata": {},
   "outputs": [],
   "source": []
  }
 ],
 "metadata": {
  "kernelspec": {
   "display_name": "Python 3 (ipykernel)",
   "language": "python",
   "name": "python3"
  },
  "language_info": {
   "codemirror_mode": {
    "name": "ipython",
    "version": 3
   },
   "file_extension": ".py",
   "mimetype": "text/x-python",
   "name": "python",
   "nbconvert_exporter": "python",
   "pygments_lexer": "ipython3",
   "version": "3.12.3"
  }
 },
 "nbformat": 4,
 "nbformat_minor": 4
}
