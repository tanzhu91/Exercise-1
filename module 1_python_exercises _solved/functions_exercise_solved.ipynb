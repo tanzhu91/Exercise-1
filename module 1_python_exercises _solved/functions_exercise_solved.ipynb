{
 "cells": [
  {
   "cell_type": "markdown",
   "metadata": {},
   "source": [
    "# Instructions \n",
    "\n",
    "For these exercises you'll be working through solving more problems, but this time by building functions from scratch. \n",
    "\n",
    "\n",
    "For each problem, you should build a function into your solution. We will build each function into it's own cell, and then call it with some arguments in the next cell right after you define it. \n",
    "\n",
    "\n",
    "For example, pretend all of the following is the solution to one of the problems, written in a function first and then called (for testing purposes) below. \n",
    "\n",
    "```python \n",
    "def my_func(param1, param2, param3): \n",
    "    # Function code to solve the problem\n",
    "\n",
    "print(my_func(param11, param21, param31))\n",
    "print(my_func(param12, param22, param32))\n",
    "print(my_func(param13, param23, param33))\n",
    "print(my_func(param14, param24, param34))\n",
    "```\n",
    "\n",
    "Note above that `my_func` is called five times after it's definition. \n",
    "\n",
    "These tests should check that `my_func` works correctly with different sets of arguments. You should aim to test your functions at least 5 times after you write them. It's good to try to think of tests that your function might not solve correctly (we call these **edge cases**). Not only does thinking like this help you solve the problem, but it also gives you more faith in your solution.\n"
   ]
  },
  {
   "cell_type": "markdown",
   "metadata": {},
   "source": [
    "## Check your understanding"
   ]
  },
  {
   "cell_type": "markdown",
   "metadata": {},
   "source": [
    "### Task 1"
   ]
  },
  {
   "cell_type": "markdown",
   "metadata": {},
   "source": [
    "\n",
    "**Business Context:**\n",
    "> You work in a realestate agency. a common request your team receives is to calculate the bond for a new rental contract.   \n",
    "> In the hottest realestate market Berlin the bond is 4 times the value of the montlhy rent. \n",
    "> Everwhere else in germany the bond is 3 times the value of the monthly rent.\n",
    "\n",
    "**Your Task:**\n",
    "> Write a python function that calculcates the bond based on the monthly rent and the city the person lives in."
   ]
  },
  {
   "cell_type": "code",
   "execution_count": 1,
   "metadata": {},
   "outputs": [],
   "source": [
    "# Test your function with\n",
    "monthly_rent = 350\n",
    "city = 'Berlin'\n"
   ]
  },
  {
   "cell_type": "code",
   "execution_count": 2,
   "metadata": {},
   "outputs": [],
   "source": [
    "monthly_rent = 350\n",
    "def bond(x):\n",
    "    result = monthly_rent*4\n",
    "    return result  "
   ]
  },
  {
   "cell_type": "code",
   "execution_count": 3,
   "metadata": {},
   "outputs": [
    {
     "data": {
      "text/plain": [
       "1400"
      ]
     },
     "execution_count": 3,
     "metadata": {},
     "output_type": "execute_result"
    }
   ],
   "source": [
    "bond(monthly_rent)  "
   ]
  },
  {
   "cell_type": "code",
   "execution_count": 4,
   "metadata": {},
   "outputs": [],
   "source": [
    "monthly_rent = 350\n",
    "city = 'Berlin'\n",
    "def bond_city(x,y='Berlin'):\n",
    "    if y == 'Berlin':\n",
    "        result = monthly_rent*4\n",
    "    else:\n",
    "        result = monthly_rent*3\n",
    "    return result"
   ]
  },
  {
   "cell_type": "code",
   "execution_count": 8,
   "metadata": {},
   "outputs": [
    {
     "data": {
      "text/plain": [
       "1050"
      ]
     },
     "execution_count": 8,
     "metadata": {},
     "output_type": "execute_result"
    }
   ],
   "source": [
    "bond_city(monthly_rent,'London')\n"
   ]
  },
  {
   "cell_type": "markdown",
   "metadata": {},
   "source": [
    "### Task 2\n",
    "\n",
    "For the first part of the assignment, we're going to get some practice taking something we've already written and translating it to a function. In continuation of prior assignments, \n",
    "\n",
    "1. Write a function that return the given input number multiplied by 4.  \n",
    "2. Write a function that determines whether or not an inputted number is bigger than 5. Based on what your input is, the function prints either a sentence like \"Input number X is bigger than 5\" or \"..smaller than 5\".\n",
    "3. Write a function that determines whether or not an inputted number is between 10 and 100 or smaller or bigger, and then prints the answer depending on what your script finds."
   ]
  },
  {
   "cell_type": "code",
   "execution_count": 170,
   "metadata": {},
   "outputs": [
    {
     "name": "stdout",
     "output_type": "stream",
     "text": [
      "Enter a whole number 8\n"
     ]
    },
    {
     "name": "stdout",
     "output_type": "stream",
     "text": [
      "32\n"
     ]
    }
   ],
   "source": [
    "def multiplied_by_four(x):\n",
    "    z = x * 4\n",
    "    return z\n",
    "print(multiplied_by_four(int(input(\"Enter a whole number\"))))"
   ]
  },
  {
   "cell_type": "code",
   "execution_count": 175,
   "metadata": {},
   "outputs": [
    {
     "name": "stdout",
     "output_type": "stream",
     "text": [
      "Enter a whole non-negative number 1\n"
     ]
    },
    {
     "name": "stdout",
     "output_type": "stream",
     "text": [
      "Input number is less than 5\n",
      "1\n"
     ]
    }
   ],
   "source": [
    "def check(x):\n",
    "    if x > 5:\n",
    "        print(\"Input number is bigger than 5\")\n",
    "    elif x < 5:\n",
    "        print(\"Input number is less than 5\")\n",
    "    return x\n",
    "\n",
    "print(check(int(input(\"Enter a whole non-negative number\"))))"
   ]
  },
  {
   "cell_type": "code",
   "execution_count": null,
   "metadata": {},
   "outputs": [],
   "source": []
  },
  {
   "cell_type": "markdown",
   "metadata": {},
   "source": [
    "### Task 3\n",
    "\n",
    "Put the if-else block below into a function. Give the function a reasonable name and think about what input parameters make sense."
   ]
  },
  {
   "cell_type": "code",
   "execution_count": 149,
   "metadata": {},
   "outputs": [
    {
     "name": "stdout",
     "output_type": "stream",
     "text": [
      "Oh, well, what is your name then?\n"
     ]
    }
   ],
   "source": [
    "name = \"Fish\"\n",
    "\n",
    "if name == \"Fish\":  \n",
    "    print (\"Hello,\", name)\n",
    "else:  \n",
    "    print (\"Oh, well, what is your name then?\")"
   ]
  },
  {
   "cell_type": "code",
   "execution_count": 200,
   "metadata": {},
   "outputs": [
    {
     "name": "stdout",
     "output_type": "stream",
     "text": [
      "What's your name Fish\n"
     ]
    },
    {
     "name": "stdout",
     "output_type": "stream",
     "text": [
      "Hello, Fish\n"
     ]
    }
   ],
   "source": [
    "# please write your solution here\n",
    "name_of_object(input(\"What's your name\"))\n",
    "name = \"Fish\"\n",
    "def name_of_object(x):\n",
    "    if x == \"Fish\":\n",
    "        print (\"Hello,\", name)\n",
    "    else:  \n",
    "        print (\"Oh, well, what is your name then?\")\n",
    "    return x"
   ]
  },
  {
   "cell_type": "markdown",
   "metadata": {},
   "source": [
    "### Task 4"
   ]
  },
  {
   "cell_type": "markdown",
   "metadata": {},
   "source": [
    "Revisit Task 3 from `list_exercises`. Rewrite your solution with the help of functions! \n",
    "Ask yourself:\n",
    "- How can you make your code more readable with functions?\n",
    "- How can you structure your solution with functions?\n",
    "- what are input and output of your functions?"
   ]
  },
  {
   "cell_type": "code",
   "execution_count": 279,
   "metadata": {},
   "outputs": [],
   "source": [
    "daily_hours = []\n",
    "lunch_expenses = []"
   ]
  },
  {
   "cell_type": "code",
   "execution_count": 305,
   "metadata": {},
   "outputs": [
    {
     "name": "stdout",
     "output_type": "stream",
     "text": [
      "How many hours do you work per day?  4\n",
      "How much do you spend on lunch per day?  5\n"
     ]
    }
   ],
   "source": [
    "def sum_work_hours(x):\n",
    "    daily_hours = x.append(int(input(\"How many hours do you work per day? \")))\n",
    "    return x\n",
    "sum_work = sum(sum_work_hours(daily_hours))\n",
    "\n",
    "def sum_lunch_expenses(y):\n",
    "    lunch_expenses = y.append(int(input(\"How much do you spend on lunch per day? \")))\n",
    "    return y\n",
    "average_lunch = (sum(sum_lunch_expenses(lunch_expenses)))/len(lunch_expenses)"
   ]
  },
  {
   "cell_type": "code",
   "execution_count": 306,
   "metadata": {},
   "outputs": [
    {
     "data": {
      "text/plain": [
       "48"
      ]
     },
     "execution_count": 306,
     "metadata": {},
     "output_type": "execute_result"
    }
   ],
   "source": [
    "sum_work"
   ]
  },
  {
   "cell_type": "code",
   "execution_count": 307,
   "metadata": {},
   "outputs": [
    {
     "data": {
      "text/plain": [
       "7.125"
      ]
     },
     "execution_count": 307,
     "metadata": {},
     "output_type": "execute_result"
    }
   ],
   "source": [
    "average_lunch"
   ]
  },
  {
   "cell_type": "code",
   "execution_count": 308,
   "metadata": {},
   "outputs": [
    {
     "data": {
      "text/plain": [
       "[5, 7, 10, 5, 6, 5, 6, 4]"
      ]
     },
     "execution_count": 308,
     "metadata": {},
     "output_type": "execute_result"
    }
   ],
   "source": [
    "daily_hours"
   ]
  },
  {
   "cell_type": "code",
   "execution_count": 309,
   "metadata": {},
   "outputs": [
    {
     "data": {
      "text/plain": [
       "[6, 8, 12, 6, 7, 6, 7, 5]"
      ]
     },
     "execution_count": 309,
     "metadata": {},
     "output_type": "execute_result"
    }
   ],
   "source": [
    "lunch_expenses"
   ]
  },
  {
   "cell_type": "code",
   "execution_count": null,
   "metadata": {},
   "outputs": [],
   "source": []
  }
 ],
 "metadata": {
  "kernelspec": {
   "display_name": "base",
   "language": "python",
   "name": "python3"
  },
  "language_info": {
   "codemirror_mode": {
    "name": "ipython",
    "version": 3
   },
   "file_extension": ".py",
   "mimetype": "text/x-python",
   "name": "python",
   "nbconvert_exporter": "python",
   "pygments_lexer": "ipython3",
   "version": "3.12.3"
  }
 },
 "nbformat": 4,
 "nbformat_minor": 4
}
