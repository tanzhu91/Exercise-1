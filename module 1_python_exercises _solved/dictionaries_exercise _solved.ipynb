{
 "cells": [
  {
   "cell_type": "markdown",
   "metadata": {},
   "source": [
    "# Dictionaries"
   ]
  },
  {
   "cell_type": "markdown",
   "metadata": {},
   "source": [
    "## Check your understanding!\n",
    "\n",
    "**1 - Dictionary Basics**\n",
    "\n",
    "1. Make a dictionary called `restaurant_types` that has the following associated `key-value` pairs: `('Red Lobster', 'Seafood')`, `('Burger King', 'Fast Food')`, `('Safeway', 'Grocery Store')`.\n",
    "\n",
    "2. How do you find the restaurant type for `'Burger King'`?\n",
    "3. What if you don't know whether or not `'Outback Steakhouse'` is in the `restaurant_types` dictionary - how would you go about trying to get it's restaurant type and make sure that you won't get an error?"
   ]
  },
  {
   "cell_type": "code",
   "execution_count": 7,
   "metadata": {},
   "outputs": [
    {
     "data": {
      "text/plain": [
       "{'Red Lobster': 'Seafood',\n",
       " 'Burger King': 'Fast Food',\n",
       " 'Safeway': 'Grocery Store'}"
      ]
     },
     "execution_count": 7,
     "metadata": {},
     "output_type": "execute_result"
    }
   ],
   "source": [
    "restaurant_types = {'Red Lobster':'Seafood',\n",
    "                    'Burger King':'Fast Food',\n",
    "                    'Safeway':'Grocery Store'}\n",
    "restaurant_types"
   ]
  },
  {
   "cell_type": "code",
   "execution_count": 10,
   "metadata": {},
   "outputs": [
    {
     "data": {
      "text/plain": [
       "'Fast Food'"
      ]
     },
     "execution_count": 10,
     "metadata": {},
     "output_type": "execute_result"
    }
   ],
   "source": [
    "restaurant_types['Burger King']"
   ]
  },
  {
   "cell_type": "code",
   "execution_count": 11,
   "metadata": {},
   "outputs": [
    {
     "data": {
      "text/plain": [
       "'State not found'"
      ]
     },
     "execution_count": 11,
     "metadata": {},
     "output_type": "execute_result"
    }
   ],
   "source": [
    "restaurant_types.get('Outback Steakhouse', 'State not found')"
   ]
  },
  {
   "cell_type": "markdown",
   "metadata": {},
   "source": [
    "**2 - Mutating Dictionaries**\n",
    "\n",
    "1. Using the same resturant type dictionary from the last question set, add to it the key-value pair, `('Outback Steakhouse', 'Delicious!')`.\n",
    "2. What if we want to change the restaurant type of `'Safeway'` to just `'Grocery'` - how would you make that change?\n",
    "3. Considering that we quite like `Outback Steakhouse`, it's reasonable to assume that we don't particularly like `'Burger King'`. Remove the `'Burger King'` entry from the dictionary. There are a couple of ways you can figure out how to do this:\n",
    "    1. Try tab completing on the dictionary and see if there are any methods that look like they could help.\n",
    "    2. Look at the docs for Python dictionaries.\n",
    "    3. Google it."
   ]
  },
  {
   "cell_type": "code",
   "execution_count": null,
   "metadata": {},
   "outputs": [],
   "source": [
    "restaurant_types = {'Red Lobster':'Seafood',\n",
    "                    'Burger King':'Fast Food',\n",
    "                    'Safeway':'Grocery Store',\n",
    "                   'Outback Steakhouse':'Delicious!'}"
   ]
  },
  {
   "cell_type": "code",
   "execution_count": 12,
   "metadata": {},
   "outputs": [
    {
     "data": {
      "text/plain": [
       "{'Red Lobster': 'Seafood', 'Burger King': 'Fast Food', 'Safeway': 'Grocery'}"
      ]
     },
     "execution_count": 12,
     "metadata": {},
     "output_type": "execute_result"
    }
   ],
   "source": [
    "restaurant_types['Safeway'] = 'Grocery'\n",
    "restaurant_types"
   ]
  },
  {
   "cell_type": "code",
   "execution_count": 17,
   "metadata": {},
   "outputs": [
    {
     "data": {
      "text/plain": [
       "{'Red Lobster': 'Seafood',\n",
       " 'Safeway': 'Grocery Store',\n",
       " 'Outback Steakhouse': 'Delicious!'}"
      ]
     },
     "execution_count": 17,
     "metadata": {},
     "output_type": "execute_result"
    }
   ],
   "source": [
    "del restaurant_types['Burger King']\n",
    "restaurant_types"
   ]
  },
  {
   "cell_type": "markdown",
   "metadata": {},
   "source": [
    "**3 - Nested Dictionaries**\n",
    "\n",
    "Given is the following dictionary `weather_data`.\n",
    "\n",
    "1. Look at this dictionary and describe in a few words what information is stored here.\n",
    "2. How many keys does it have?\n",
    "3. For each key, list the object-type of the value with `type()`.\n",
    "4. Print the value for the key `wind`. Assign the value to a new variables called `wind_data`.\n",
    "5. Print the following values by accessing data from the dictionary:\n",
    "    - the name of the city\n",
    "    - the lat and lon coordinates\n",
    "    - the weather description\n"
   ]
  },
  {
   "cell_type": "code",
   "execution_count": 40,
   "metadata": {},
   "outputs": [],
   "source": [
    "weather_dictionary = { \"coord\":{\"lon\":10,\n",
    "                                \"lat\":53.55},\n",
    "                        \"weather\":[{\"id\":800,\n",
    "                                    \"main\":\"Clear\",\n",
    "                                    \"description\":\"clear sky\",\n",
    "                                    \"icon\":\"01d\"}],\n",
    "                        \"base\":\"stations\",\n",
    "                        \"main\":{\"temp\":290.32,\n",
    "                                \"feels_like\":290.1,\n",
    "                                \"temp_min\":289.81,\n",
    "                                \"temp_max\":291.05,\n",
    "                                \"pressure\":1005,\n",
    "                                \"humidity\":77},\n",
    "                        \"visibility\":10000,\n",
    "                        \"wind\":{\"speed\":5.14,\n",
    "                                \"deg\":270},\n",
    "                        \"clouds\":{\"all\":0},\n",
    "                        \"dt\":1712655018,\n",
    "                        \"sys\":{\"type\":1,\n",
    "                                \"id\":1263,\n",
    "                                \"country\":\"DE\",\n",
    "                                \"sunrise\":1712637190,\n",
    "                                \"sunset\":1712686163},\n",
    "                        \"timezone\":7200,\n",
    "                        \"id\":2911298,\n",
    "                        \"name\":\"Hamburg\",\n",
    "                        \"cod\":200\n",
    "                    }\n"
   ]
  },
  {
   "cell_type": "code",
   "execution_count": 41,
   "metadata": {},
   "outputs": [
    {
     "data": {
      "text/plain": [
       "['coord',\n",
       " 'weather',\n",
       " 'base',\n",
       " 'main',\n",
       " 'visibility',\n",
       " 'wind',\n",
       " 'clouds',\n",
       " 'dt',\n",
       " 'sys',\n",
       " 'timezone',\n",
       " 'id',\n",
       " 'name',\n",
       " 'cod']"
      ]
     },
     "execution_count": 41,
     "metadata": {},
     "output_type": "execute_result"
    }
   ],
   "source": [
    "list(weather_dictionary.keys())"
   ]
  },
  {
   "cell_type": "code",
   "execution_count": 42,
   "metadata": {},
   "outputs": [
    {
     "data": {
      "text/plain": [
       "13"
      ]
     },
     "execution_count": 42,
     "metadata": {},
     "output_type": "execute_result"
    }
   ],
   "source": [
    "len(weather_dictionary)"
   ]
  },
  {
   "cell_type": "code",
   "execution_count": 43,
   "metadata": {},
   "outputs": [
    {
     "name": "stdout",
     "output_type": "stream",
     "text": [
      "<class 'dict'>\n",
      "<class 'list'>\n",
      "<class 'str'>\n",
      "<class 'dict'>\n",
      "<class 'dict'>\n",
      "<class 'dict'>\n",
      "<class 'int'>\n",
      "<class 'dict'>\n",
      "<class 'int'>\n",
      "<class 'int'>\n",
      "<class 'str'>\n",
      "<class 'int'>\n"
     ]
    }
   ],
   "source": [
    "print(type(weather_dictionary['coord']))\n",
    "print(type(weather_dictionary['weather']))\n",
    "print(type(weather_dictionary['base']))\n",
    "print(type(weather_dictionary['main']))\n",
    "print(type(weather_dictionary['wind']))\n",
    "print(type(weather_dictionary['clouds']))\n",
    "print(type(weather_dictionary['dt']))\n",
    "print(type(weather_dictionary['sys']))\n",
    "print(type(weather_dictionary['timezone']))\n",
    "print(type(weather_dictionary['id']))\n",
    "print(type(weather_dictionary['name']))\n",
    "print(type(weather_dictionary['cod']))"
   ]
  },
  {
   "cell_type": "code",
   "execution_count": 50,
   "metadata": {},
   "outputs": [
    {
     "name": "stdout",
     "output_type": "stream",
     "text": [
      "{'speed': 5.14, 'deg': 270}\n"
     ]
    }
   ],
   "source": [
    "print(weather_dictionary['wind'])\n"
   ]
  },
  {
   "cell_type": "code",
   "execution_count": 51,
   "metadata": {},
   "outputs": [
    {
     "data": {
      "text/plain": [
       "{'speed': 5.14, 'deg': 270}"
      ]
     },
     "execution_count": 51,
     "metadata": {},
     "output_type": "execute_result"
    }
   ],
   "source": [
    "wind_data = weather_dictionary['wind']\n",
    "wind_data"
   ]
  },
  {
   "cell_type": "code",
   "execution_count": 53,
   "metadata": {},
   "outputs": [
    {
     "name": "stdout",
     "output_type": "stream",
     "text": [
      "Hamburg\n",
      "{'lon': 10, 'lat': 53.55}\n",
      "[{'id': 800, 'main': 'Clear', 'description': 'clear sky', 'icon': '01d'}]\n"
     ]
    }
   ],
   "source": [
    "print(weather_dictionary['name'])\n",
    "print(weather_dictionary['coord'])\n",
    "print(weather_dictionary['weather'])"
   ]
  },
  {
   "cell_type": "markdown",
   "metadata": {},
   "source": [
    "**4 - Dictionary for storing data and make efficient calculations**"
   ]
  },
  {
   "cell_type": "markdown",
   "metadata": {},
   "source": [
    "This is an expansion of the exercise nr. 3 of the list exercises. Same situation, we want to\n",
    "use this cool 'input'-function:\n",
    "```python\n",
    "user_name = input(\"Enter your name: \")\n",
    "greeting = \"Hello, \" + user_name + \"!\"\n",
    "print(greeting)\n",
    "```\n",
    "\n",
    "We'll take our ideas from exercise nr. 4 of the list exercises and expand on it the following way:\n",
    "- Write a program that asks the user 3 questions:\n",
    "    - their name,\n",
    "    - the date of today\n",
    "    - their daily hours of work of this day,\n",
    "    - their money spent on lunch at this day.\n",
    "- This time think about a dictionary structure to store all values that are entered. What makes sense to store as key and what as values? \n",
    "*hint:* name should be definetly a key.\n",
    "- Then, write a for-loop that loops through all keys and calculates the sum of all daily hours worked so far and the average lunch expenses.\n",
    "- Print out the result to us in a nicely formatted way. \n",
    "(If you want to be really pythonic, try to use string formatting with the format-method and f-strings.)\n",
    "\n",
    "Optional task:\n",
    "- add a feature that let's the user tell you to delete a certain element if it was wrong.\n",
    "- we will not describe possible steps for this in more detail, try to come up with a step-by-step solution yourself :-) "
   ]
  },
  {
   "cell_type": "markdown",
   "metadata": {},
   "source": [
    "\n",
    "<details><summary>\n",
    "Click here for a hint…\n",
    "</summary>\n",
    "you could design your dictionary the following way:\n",
    "user_dict = {'Alex': {'2023-10-12': 7.0,\n",
    "                      '2023-10-13': 10.0},\n",
    "            'Param': {'2023-10-11': 8.0}}\n",
    "</details>\n"
   ]
  },
  {
   "cell_type": "code",
   "execution_count": 14,
   "metadata": {},
   "outputs": [],
   "source": [
    "user_name = input(\"Enter your name: \")\n",
    "the_date_today = input(\"Enter the data in dd/mm/yyyy format: \")\n",
    "daily_hours_of_work = input(\"Enter your daily hours of work: \")\n",
    "money_spent_on_lunch = input(\"Enter how much you spend on lunch every day: \")\n",
    "my_dict = {\"user_name\":\"\",\n",
    "            \"the_date_today\":\"\",\n",
    "            \"daily_hours_of_work\":(), \n",
    "            \"money_spent_on_lunch\":(),\n",
    "            }\n",
    "\n",
    "\n"
   ]
  },
  {
   "cell_type": "code",
   "execution_count": 15,
   "metadata": {},
   "outputs": [
    {
     "name": "stdout",
     "output_type": "stream",
     "text": [
      "{'user_name': '', 'the_date_today': '', 'daily_hours_of_work': (), 'money_spent_on_lunch': ()}\n"
     ]
    }
   ],
   "source": [
    "print(my_dict)\n"
   ]
  },
  {
   "cell_type": "code",
   "execution_count": 79,
   "metadata": {},
   "outputs": [
    {
     "data": {
      "text/plain": [
       "'11/18/2024'"
      ]
     },
     "execution_count": 79,
     "metadata": {},
     "output_type": "execute_result"
    }
   ],
   "source": [
    "user_name = {}\n",
    "the_date_today = {}\n",
    "daily_hours_of_work = {}\n",
    "money_spent_on_lunch = {}"
   ]
  },
  {
   "cell_type": "code",
   "execution_count": 6,
   "metadata": {},
   "outputs": [
    {
     "name": "stdin",
     "output_type": "stream",
     "text": [
      "Enter the number 4 for all entries:  2\n",
      "Write the key (Name):  2\n",
      "Enter your name:  2\n",
      "Write the key (Name):  2\n",
      "Enter your name:  2\n"
     ]
    },
    {
     "name": "stdout",
     "output_type": "stream",
     "text": [
      "Dictionary after adding user input: {'2': '2'}\n"
     ]
    },
    {
     "name": "stdin",
     "output_type": "stream",
     "text": [
      "Enter the number 4 for all entries:  2\n",
      "Enter key:  2\n",
      "Enter value:  2\n",
      "Enter key:  2\n",
      "Enter value:  2\n"
     ]
    },
    {
     "name": "stdout",
     "output_type": "stream",
     "text": [
      "Dictionary after adding user input: {'2': '2'}\n"
     ]
    }
   ],
   "source": [
    "my_dict_1 = {}\n",
    "\n",
    "entries = int(input(\"Enter the number 4 for all entries: \"))\n",
    "\n",
    "for i in range(entries):\n",
    "    key = input(\"Write the key (Name): \")\n",
    "    value = input(\"Enter your name: \")\n",
    "    my_dict_1[key] = value\n",
    "\n",
    "print(\"Dictionary after adding user input:\", my_dict_1)\n",
    "\n",
    "my_dict_2 = {}\n",
    "\n",
    "entries = int(input(\"Enter the number 4 for all entries: \"))\n",
    "\n",
    "for i in range(entries):\n",
    "    key = input(\"Enter key: \")\n",
    "    value = input(\"Enter value: \")\n",
    "    my_dict_2[key] = value\n",
    "\n",
    "print(\"Dictionary after adding user input:\", my_dict_2)"
   ]
  },
  {
   "cell_type": "code",
   "execution_count": null,
   "metadata": {},
   "outputs": [],
   "source": []
  }
 ],
 "metadata": {
  "interpreter": {
   "hash": "0e4771abb73651cc71498e03f3559c7e0f15f38d5124065b3832974a7bbffea7"
  },
  "kernelspec": {
   "display_name": "Python 3 (ipykernel)",
   "language": "python",
   "name": "python3"
  },
  "language_info": {
   "codemirror_mode": {
    "name": "ipython",
    "version": 3
   },
   "file_extension": ".py",
   "mimetype": "text/x-python",
   "name": "python",
   "nbconvert_exporter": "python",
   "pygments_lexer": "ipython3",
   "version": "3.12.3"
  }
 },
 "nbformat": 4,
 "nbformat_minor": 4
}
