{
 "cells": [
  {
   "cell_type": "markdown",
   "metadata": {},
   "source": [
    "### --- WHILE LOOP EXERCISES ---"
   ]
  },
  {
   "cell_type": "markdown",
   "metadata": {},
   "source": [
    "### Infinte Loop Question"
   ]
  },
  {
   "cell_type": "markdown",
   "metadata": {},
   "source": [
    "**Q1:**  The following cell has code containing an infinte loop in it. Change it so that when run, it will stop.   \n",
    "\n",
    "If you try something and nothing is printed, then an infinite loop is probably still there.   \n",
    "To stop the notebook from calculating on forever, navigate to the top bar, click on the *Kernel* tab, and click on *Interrupt*.  \n",
    "This forcibly stops Python from executing.   \n",
    "<details><summary>\n",
    "Click <b>here</b> if you can't find it.\n",
    "</summary>\n",
    "<center><img src='./interrupt.png' width='40%' style='border:1px solid #FFFF00'></center>\n",
    "</details>\n"
   ]
  },
  {
   "cell_type": "code",
   "execution_count": 6,
   "metadata": {},
   "outputs": [
    {
     "name": "stdout",
     "output_type": "stream",
     "text": [
      "0\n",
      "-1\n",
      "1\n"
     ]
    }
   ],
   "source": [
    "total, x = 0, 1\n",
    "while x >= 0:\n",
    "    total += x\n",
    "    x -= 1\n",
    "    print(x)\n",
    "print(total)"
   ]
  },
  {
   "cell_type": "markdown",
   "metadata": {},
   "source": [
    "### `while` loop to sum number from 1 to 10"
   ]
  },
  {
   "cell_type": "markdown",
   "metadata": {},
   "source": [
    "**Q2:** Wse a `while` loop to sum number from 1 to 10"
   ]
  },
  {
   "cell_type": "code",
   "execution_count": 21,
   "metadata": {},
   "outputs": [
    {
     "name": "stdout",
     "output_type": "stream",
     "text": [
      "1\n",
      "2\n",
      "3\n",
      "4\n",
      "5\n",
      "6\n",
      "7\n",
      "8\n",
      "9\n",
      "10\n"
     ]
    }
   ],
   "source": [
    "i = 1\n",
    "num_sum = 0\n",
    "while i <= 10:\n",
    "    print(i)\n",
    "    i = i + 1\n",
    "    num_sum = num_sum + i\n",
    "# Enter code below"
   ]
  },
  {
   "cell_type": "markdown",
   "metadata": {},
   "source": [
    "### While loop for searching a data structure"
   ]
  },
  {
   "cell_type": "markdown",
   "metadata": {},
   "source": [
    "**Q3:** Write a `while` loop that searches for 'Waldo' in the list of names and stops if it is found.\n"
   ]
  },
  {
   "cell_type": "code",
   "execution_count": 53,
   "metadata": {},
   "outputs": [
    {
     "name": "stdout",
     "output_type": "stream",
     "text": [
      "Alice\n",
      "Diane\n",
      "Tom\n",
      "Bob\n"
     ]
    }
   ],
   "source": [
    "i = 0\n",
    "names  = ['Alice', 'Diane', 'Tom', 'Bob', 'Waldo', 'Ross', 'Sonia', 'Amy']\n",
    "while i < len(names):\n",
    "    if names[i] == \"Waldo\":\n",
    "        break\n",
    "        print(\"Hello\")\n",
    "        \n",
    "    print(names[i])\n",
    "    i += 1\n",
    "\n"
   ]
  },
  {
   "cell_type": "code",
   "execution_count": 46,
   "metadata": {},
   "outputs": [],
   "source": [
    "# Enter code below\n"
   ]
  },
  {
   "cell_type": "markdown",
   "metadata": {},
   "source": [
    "**Q4:** but what if Waldo is not there ?? Take the loop from Q3 and add a condition to print 'We found Waldo!' if 'Waldo' was found."
   ]
  },
  {
   "cell_type": "code",
   "execution_count": null,
   "metadata": {},
   "outputs": [],
   "source": [
    "names = ['Alice', 'Diane', 'Tom', 'Bob', 'Harry', 'Ross', 'Sonia', 'Amy']\n",
    "\n",
    "found = False\n",
    "i = 0"
   ]
  },
  {
   "cell_type": "code",
   "execution_count": 66,
   "metadata": {},
   "outputs": [
    {
     "name": "stdout",
     "output_type": "stream",
     "text": [
      "Alice\n",
      "Diane\n",
      "Tom\n",
      "Bob\n",
      "Harry\n",
      "Ross\n",
      "Sonia\n",
      "Amy\n",
      "Waldo was not found!\n"
     ]
    }
   ],
   "source": [
    "# Enter code below\n",
    "\n",
    "names = ['Alice', 'Diane', 'Tom', 'Bob', 'Harry', 'Ross', 'Sonia', 'Amy']\n",
    "i = 0\n",
    "found = False\n",
    "while i < len(names):\n",
    "    if names[i] == \"Waldo\":\n",
    "        found = True\n",
    "        print(names[i])\n",
    "        break\n",
    "        \n",
    "    print(names[i])\n",
    "    i += 1\n",
    "if found:\n",
    "    print(\"Waldo was found!\")\n",
    "else:\n",
    "    print(\"Waldo was not found!\")\n"
   ]
  },
  {
   "cell_type": "code",
   "execution_count": null,
   "metadata": {},
   "outputs": [],
   "source": []
  }
 ],
 "metadata": {
  "kernelspec": {
   "display_name": "Python 3 (ipykernel)",
   "language": "python",
   "name": "python3"
  },
  "language_info": {
   "codemirror_mode": {
    "name": "ipython",
    "version": 3
   },
   "file_extension": ".py",
   "mimetype": "text/x-python",
   "name": "python",
   "nbconvert_exporter": "python",
   "pygments_lexer": "ipython3",
   "version": "3.12.3"
  }
 },
 "nbformat": 4,
 "nbformat_minor": 4
}
